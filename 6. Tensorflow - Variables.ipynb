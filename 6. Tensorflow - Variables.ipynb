{
 "cells": [
  {
   "cell_type": "markdown",
   "metadata": {
    "collapsed": true
   },
   "source": [
    "# Variables\n",
    "### What’s wrong with constants?\n",
    "* Constants are stored in the graph definition, This makes loading graphs expensive when constants are big\n",
    "* Only use constants for primitive types. Use variables or readers for more data that requires more memory\n",
    "*  A variable is stored separately, and may live on a parameter server"
   ]
  },
  {
   "cell_type": "code",
   "execution_count": 1,
   "metadata": {
    "collapsed": false
   },
   "outputs": [
    {
     "name": "stderr",
     "output_type": "stream",
     "text": [
      "C:\\Program Files\\Anaconda3\\lib\\site-packages\\h5py\\__init__.py:34: FutureWarning: Conversion of the second argument of issubdtype from `float` to `np.floating` is deprecated. In future, it will be treated as `np.float64 == np.dtype(float).type`.\n",
      "  from ._conv import register_converters as _register_converters\n"
     ]
    },
    {
     "name": "stdout",
     "output_type": "stream",
     "text": [
      "node {\n",
      "  name: \"my_const\"\n",
      "  op: \"Const\"\n",
      "  attr {\n",
      "    key: \"dtype\"\n",
      "    value {\n",
      "      type: DT_FLOAT\n",
      "    }\n",
      "  }\n",
      "  attr {\n",
      "    key: \"value\"\n",
      "    value {\n",
      "      tensor {\n",
      "        dtype: DT_FLOAT\n",
      "        tensor_shape {\n",
      "          dim {\n",
      "            size: 2\n",
      "          }\n",
      "        }\n",
      "        tensor_content: \"\\000\\000 A\\000\\000\\200@\"\n",
      "      }\n",
      "    }\n",
      "  }\n",
      "}\n",
      "versions {\n",
      "  producer: 24\n",
      "}\n",
      "\n"
     ]
    }
   ],
   "source": [
    "import tensorflow as tf\n",
    "my_const = tf.constant([10.0, 4.0], name=\"my_const\")\n",
    "with tf.Session() as sess:\n",
    "    print(sess.graph.as_graph_def())\n",
    "# you will see value of my_const stored in the graph’s definition"
   ]
  },
  {
   "cell_type": "code",
   "execution_count": 1,
   "metadata": {
    "collapsed": false
   },
   "outputs": [
    {
     "name": "stderr",
     "output_type": "stream",
     "text": [
      "C:\\Program Files\\Anaconda3\\lib\\site-packages\\h5py\\__init__.py:34: FutureWarning: Conversion of the second argument of issubdtype from `float` to `np.floating` is deprecated. In future, it will be treated as `np.float64 == np.dtype(float).type`.\n",
      "  from ._conv import register_converters as _register_converters\n"
     ]
    }
   ],
   "source": [
    "import tensorflow as tf\n",
    "# # created this function to evaluate the expression and print the result.\n",
    "# like should not be done in production\n",
    "def run_print(x):\n",
    "    with tf.Session() as sess:\n",
    "        print(sess.run(x))\n",
    "\n"
   ]
  },
  {
   "cell_type": "markdown",
   "metadata": {
    "collapsed": true
   },
   "source": [
    "### Declare variables\n",
    "To declare a variable, you create an instance of the class tf.Variable. \n",
    "**Note** that it’s tf.constant but tf.Variable and not tf.variable because tf.constant is an op, while tf.Variable is a class."
   ]
  },
  {
   "cell_type": "code",
   "execution_count": 6,
   "metadata": {
    "collapsed": true
   },
   "outputs": [],
   "source": [
    "# create a variable with scalar value\n",
    "a = tf.Variable(2, name=\"scalar\")\n",
    "\n",
    "# create a variable b as a vector \n",
    "b = tf.Variable([2,3],name=\"vector\")\n",
    "\n",
    "#create a variable as 2X2 matrix\n",
    "c = tf.Variable([[0,1],[2,3]], name =\"matrix\")\n",
    "\n",
    "#create variable W as 784 X 10 tensor, filled with zeros\n",
    "W = tf.Variable(tf.zeros([784,10]))"
   ]
  },
  {
   "cell_type": "markdown",
   "metadata": {},
   "source": [
    "#### tf.Variable holds several operations:\n",
    "\n",
    "> X = tf.Variable(...)\n",
    "\n",
    "> x.initializer # init\n",
    "\n",
    "> x.value() # read op\n",
    "\n",
    "> x.assign(...) # write op\n",
    "\n",
    "> x.assign_add(...)\n",
    "\n",
    "#### and more"
   ]
  },
  {
   "cell_type": "markdown",
   "metadata": {},
   "source": [
    "** You have to initialize variables before using them. ** If you ​ try to evaluate the variables \n",
    "before initializing them you’ll run into FailedPreconditionError: Attempting to use uninitialized value tensor.\n",
    "\n",
    "The easiest way is initializing all variables at once using: tf.global_variables_initializer()"
   ]
  },
  {
   "cell_type": "code",
   "execution_count": 11,
   "metadata": {
    "collapsed": false
   },
   "outputs": [
    {
     "name": "stdout",
     "output_type": "stream",
     "text": [
      "None\n"
     ]
    }
   ],
   "source": [
    "init = tf.global_variables_initializer()\n",
    "\n",
    "with tf.Session() as sess:\n",
    "    print(sess.run(init))"
   ]
  },
  {
   "cell_type": "markdown",
   "metadata": {},
   "source": [
    "** Note that you use sess.run() to run the initializer, not fetching any value.**"
   ]
  },
  {
   "cell_type": "markdown",
   "metadata": {},
   "source": [
    "To initialize only a subset of variables, you use tf.variables_initializer() with a list of variables you want to initialize:"
   ]
  },
  {
   "cell_type": "code",
   "execution_count": 13,
   "metadata": {
    "collapsed": false
   },
   "outputs": [
    {
     "name": "stdout",
     "output_type": "stream",
     "text": [
      "None\n"
     ]
    }
   ],
   "source": [
    "init_ab = tf.variables_initializer([a, b], name=\"init_ab\")\n",
    "with tf.Session() as sess:\n",
    "    print(sess.run(init_ab))"
   ]
  },
  {
   "cell_type": "markdown",
   "metadata": {},
   "source": [
    "You can also initialize each variable separately using tf.Variable.initializer"
   ]
  },
  {
   "cell_type": "code",
   "execution_count": 15,
   "metadata": {
    "collapsed": false
   },
   "outputs": [
    {
     "name": "stdout",
     "output_type": "stream",
     "text": [
      "None\n"
     ]
    }
   ],
   "source": [
    "# create variable W as 784 x 10 tensor, filled with zeros\n",
    "W = tf.Variable(tf.zeros([784,10]))\n",
    "with tf.Session() as sess:\n",
    "    print(sess.run(W.initializer))"
   ]
  },
  {
   "cell_type": "markdown",
   "metadata": {},
   "source": [
    "Another way to initialize a variable is to restore it from a save file. "
   ]
  },
  {
   "cell_type": "markdown",
   "metadata": {},
   "source": [
    "### Evaluate values of variables\n",
    "If we print the initialize variable, we only see tensor object"
   ]
  },
  {
   "cell_type": "code",
   "execution_count": 17,
   "metadata": {
    "collapsed": false
   },
   "outputs": [
    {
     "name": "stdout",
     "output_type": "stream",
     "text": [
      "<tf.Variable 'Variable_5:0' shape=(700, 10) dtype=float32_ref>\n"
     ]
    }
   ],
   "source": [
    "W = tf.Variable(tf.truncated_normal([700,10]))\n",
    "with tf.Session() as sess:\n",
    "    sess.run(W.initializer)\n",
    "    print(W)"
   ]
  },
  {
   "cell_type": "markdown",
   "metadata": {},
   "source": [
    "To get the value of a variable, we need to evaluate it using eval()"
   ]
  },
  {
   "cell_type": "code",
   "execution_count": 22,
   "metadata": {
    "collapsed": false
   },
   "outputs": [
    {
     "name": "stdout",
     "output_type": "stream",
     "text": [
      "[[-0.6610072   1.8762355   0.5948747  ...  0.5671912   1.0676944\n",
      "  -0.31387746]\n",
      " [ 0.5552418  -0.94517386  1.0100793  ...  0.855455   -1.960183\n",
      "   0.80169415]\n",
      " [-0.17341878 -0.99093884 -1.0161394  ...  0.93140334 -0.26927486\n",
      "   0.088343  ]\n",
      " ...\n",
      " [ 0.00364401  0.78493756  0.25180912 ...  0.71139073 -0.3893471\n",
      "   0.503082  ]\n",
      " [-0.01952268 -1.4283446   0.37384334 ... -1.9144452  -0.7070146\n",
      "   0.5691087 ]\n",
      " [-0.7378621  -1.9790567  -1.2974881  ... -0.03594809  0.6627822\n",
      "  -1.4918966 ]]\n"
     ]
    }
   ],
   "source": [
    "W = tf.Variable(tf.truncated_normal([700,10]))\n",
    "with tf.Session() as sess:\n",
    "    sess.run(W.initializer)\n",
    "    print(W.eval())"
   ]
  },
  {
   "cell_type": "markdown",
   "metadata": {},
   "source": [
    "### Assign values to variables\n",
    "We can assign a value to a variable using tf.Variable.assign()"
   ]
  },
  {
   "cell_type": "code",
   "execution_count": 23,
   "metadata": {
    "collapsed": false
   },
   "outputs": [
    {
     "name": "stdout",
     "output_type": "stream",
     "text": [
      "10\n"
     ]
    }
   ],
   "source": [
    "W = tf.Variable(10)\n",
    "W.assign(100)\n",
    "with tf.Session() as session:\n",
    "    session.run(W.initializer)\n",
    "    print(W.eval())"
   ]
  },
  {
   "cell_type": "markdown",
   "metadata": {},
   "source": [
    "** Uh, why? ** W.assign(100) doesn’t assign the value 100 to W. It creates an assign op, and that op needs to be run to take effect."
   ]
  },
  {
   "cell_type": "code",
   "execution_count": 24,
   "metadata": {
    "collapsed": false
   },
   "outputs": [
    {
     "name": "stdout",
     "output_type": "stream",
     "text": [
      "100\n"
     ]
    }
   ],
   "source": [
    "W = tf.Variable(10)\n",
    "assign_op = W.assign(100)\n",
    "with tf.Session() as session:\n",
    "    session.run(assign_op)\n",
    "    print(W.eval())"
   ]
  },
  {
   "cell_type": "markdown",
   "metadata": {},
   "source": [
    "* You don’t need to initialize variable because assign_op does it for you.\n",
    "\n",
    "* In fact, initializer op is the assign op that assigns the variable’s initial value to the variable itself."
   ]
  },
  {
   "cell_type": "markdown",
   "metadata": {},
   "source": [
    "### Interesting example:"
   ]
  },
  {
   "cell_type": "code",
   "execution_count": 25,
   "metadata": {
    "collapsed": false
   },
   "outputs": [
    {
     "name": "stdout",
     "output_type": "stream",
     "text": [
      "4\n",
      "8\n",
      "16\n"
     ]
    }
   ],
   "source": [
    "# create a variable whose original value is 2\n",
    "a = tf.Variable(2, name=\"scalar\")\n",
    "\n",
    "# assign a * 2 to a and call that op a_times_two\n",
    "a_times_two = a.assign(a * 2)\n",
    "\n",
    "init = tf.global_variables_initializer()\n",
    "\n",
    "with tf.Session() as sess:\n",
    "    sess.run(init)\n",
    "    # Have to inintialize a, becoz a_times_two op depends on the value of a\n",
    "    print(sess.run(a_times_two))\n",
    "    print(sess.run(a_times_two))\n",
    "    print(sess.run(a_times_two))"
   ]
  },
  {
   "cell_type": "markdown",
   "metadata": {},
   "source": [
    "TensorFlow assigns a*2 to a every time `a_times_two` is fetched."
   ]
  },
  {
   "cell_type": "markdown",
   "metadata": {},
   "source": [
    "For simple incrementing and decrementing of variables, TensorFlow includes the ` tf.Variable.assign_add()` and `tf.Variable.assign_sub()` methods. Unlike `tf.Variable.assign()`, `tf.Variable.assign_add()` and `tf.Variable.assign_sub()` don’t initialize your variables for you because these ops depend on the initial values of the variable."
   ]
  },
  {
   "cell_type": "code",
   "execution_count": 26,
   "metadata": {
    "collapsed": false
   },
   "outputs": [
    {
     "name": "stdout",
     "output_type": "stream",
     "text": [
      "12\n",
      "8\n"
     ]
    }
   ],
   "source": [
    "W = tf.Variable(10)\n",
    "\n",
    "with tf.Session() as sess:\n",
    "    sess.run(W.initializer)\n",
    "    print(sess.run(W.assign_add(2)))\n",
    "    print(sess.run(W.assign_sub(4)))"
   ]
  },
  {
   "cell_type": "markdown",
   "metadata": {},
   "source": [
    "Because TensorFlow sessions maintain values separately, each Session can have its own current\n",
    "value for a variable defined in a graph."
   ]
  },
  {
   "cell_type": "code",
   "execution_count": 27,
   "metadata": {
    "collapsed": false
   },
   "outputs": [
    {
     "name": "stdout",
     "output_type": "stream",
     "text": [
      "20\n",
      "18\n",
      "118\n",
      "98\n"
     ]
    }
   ],
   "source": [
    "W = tf.Variable(10)\n",
    "\n",
    "session1 = tf.Session()\n",
    "session2 = tf.Session()\n",
    "\n",
    "session1.run(W.initializer)\n",
    "session1.run(W.initializer)\n",
    "\n",
    "print(session1.run(W.assign_add(10)))\n",
    "print(session1.run(W.assign_sub(2)))\n",
    "\n",
    "print(session1.run(W.assign_add(100)))\n",
    "print(session1.run(W.assign_sub(20)))\n",
    "\n",
    "\n",
    "session1.close()\n",
    "session2.close()"
   ]
  },
  {
   "cell_type": "markdown",
   "metadata": {},
   "source": [
    "#### Use a variable to initialize another variable\n",
    "Want to declare U = 2 * W\n"
   ]
  },
  {
   "cell_type": "code",
   "execution_count": 28,
   "metadata": {
    "collapsed": true
   },
   "outputs": [],
   "source": [
    "W = tf.Variable(tf.truncated_normal([700,10]))\n",
    "U = tf.Variable(2 * W)\n",
    "\n",
    "#not safe (but quite common)"
   ]
  },
  {
   "cell_type": "code",
   "execution_count": 32,
   "metadata": {
    "collapsed": false
   },
   "outputs": [],
   "source": [
    "W = tf.Variable(tf.truncated_normal([700,10]))\n",
    "U = tf.Variable(2 * W.initialized_value())\n",
    "\n",
    "# ensure that W is initialized before its value is used to initialize U -> Safer"
   ]
  },
  {
   "cell_type": "code",
   "execution_count": null,
   "metadata": {
    "collapsed": true
   },
   "outputs": [],
   "source": []
  }
 ],
 "metadata": {
  "anaconda-cloud": {},
  "kernelspec": {
   "display_name": "Python [conda root]",
   "language": "python",
   "name": "conda-root-py"
  },
  "language_info": {
   "codemirror_mode": {
    "name": "ipython",
    "version": 3
   },
   "file_extension": ".py",
   "mimetype": "text/x-python",
   "name": "python",
   "nbconvert_exporter": "python",
   "pygments_lexer": "ipython3",
   "version": "3.5.2"
  }
 },
 "nbformat": 4,
 "nbformat_minor": 2
}
