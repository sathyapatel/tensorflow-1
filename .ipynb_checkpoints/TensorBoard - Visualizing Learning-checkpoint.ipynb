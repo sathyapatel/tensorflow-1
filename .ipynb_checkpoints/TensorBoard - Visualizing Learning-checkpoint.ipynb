{
 "cells": [
  {
   "cell_type": "code",
   "execution_count": 1,
   "metadata": {
    "collapsed": false
   },
   "outputs": [
    {
     "name": "stderr",
     "output_type": "stream",
     "text": [
      "C:\\Program Files\\Anaconda3\\lib\\site-packages\\h5py\\__init__.py:34: FutureWarning: Conversion of the second argument of issubdtype from `float` to `np.floating` is deprecated. In future, it will be treated as `np.float64 == np.dtype(float).type`.\n",
      "  from ._conv import register_converters as _register_converters\n"
     ]
    }
   ],
   "source": [
    "import tensorflow as tf"
   ]
  },
  {
   "cell_type": "code",
   "execution_count": 2,
   "metadata": {
    "collapsed": false
   },
   "outputs": [
    {
     "name": "stdout",
     "output_type": "stream",
     "text": [
      "5\n"
     ]
    }
   ],
   "source": [
    "a = tf.constant(2)\n",
    "b = tf.constant(3)\n",
    "x = tf.add(a,b)\n",
    "with tf.Session() as sess:\n",
    "    writer = tf.summary.FileWriter('./graphs',sess.graph)\n",
    "    print(sess.run(x))\n",
    "    \n",
    "# close the writer when you are done using it\n",
    "writer.close()"
   ]
  },
  {
   "cell_type": "markdown",
   "metadata": {
    "collapsed": true
   },
   "source": [
    "Go to command prompt and run \n",
    "\n",
    "> tensorboard --logdir D:\\Git\\tensorflow\\tensorflow\\graphs\n",
    "\n",
    "When you run the graph you will see a as Const and b as Const_1\n",
    "\n",
    "How to change Const, Const_1 to the names we give the variables?"
   ]
  },
  {
   "cell_type": "markdown",
   "metadata": {},
   "source": [
    "#### Explicitly name"
   ]
  },
  {
   "cell_type": "code",
   "execution_count": 3,
   "metadata": {
    "collapsed": false
   },
   "outputs": [
    {
     "name": "stdout",
     "output_type": "stream",
     "text": [
      "5\n"
     ]
    }
   ],
   "source": [
    "a = tf.constant(2, name='a')\n",
    "b = tf.constant(3, name='b')\n",
    "x = tf.add(a,b, name='add')\n",
    "with tf.Session() as sess:\n",
    "    writer = tf.summary.FileWriter('./graphs',sess.graph)\n",
    "    print(sess.run(x))\n",
    "    \n",
    "# close the writer when you are done using it\n",
    "writer.close()"
   ]
  },
  {
   "cell_type": "markdown",
   "metadata": {},
   "source": [
    "Learn to use TensorBoard well and often.\n",
    "It will help a lot when you build complicated models"
   ]
  }
 ],
 "metadata": {
  "anaconda-cloud": {},
  "kernelspec": {
   "display_name": "Python [conda root]",
   "language": "python",
   "name": "conda-root-py"
  },
  "language_info": {
   "codemirror_mode": {
    "name": "ipython",
    "version": 3
   },
   "file_extension": ".py",
   "mimetype": "text/x-python",
   "name": "python",
   "nbconvert_exporter": "python",
   "pygments_lexer": "ipython3",
   "version": "3.5.2"
  }
 },
 "nbformat": 4,
 "nbformat_minor": 2
}
